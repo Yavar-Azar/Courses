import numpy as np
import matplotlib.pyplot as plt
from matplotlib.animation import FuncAnimation
from IPython.display import HTML
# Define the figure and axis
fig, ax = plt.subplots(figsize=(8, 6))
plt.axis('off')




# Create background
back = plt.Rectangle((-8,-5), 14, 10, color='#121212')


# Create the Sun shape
sun = plt.Circle((0, 0), 0.4, color='#FFFFFF')

# Create the Earth shape
earth = plt.Circle((2, 0), 0.14, color='#3700B3')

# Create the Moon shape
moon = plt.Circle((2.1, 0), 0.03, color='#BB86FC')

# Create the Mercury shape
mercury = plt.Circle((0.8, 0), 0.07, color='#FF7597')

# Create the Venus shape
venus = plt.Circle((1.2, 0), 0.12, color='#03DAC6')



mars = plt.Circle((4.0, 0), 0.12, color='#CF6679')


# Create Earth, Moon, Mercury, and Venus orbits
earth_orbit = plt.Circle((0, 0), 2, fill=False, linestyle='dashed', linewidth=0.8, color='#3700B3')
mercury_orbit = plt.Circle((0, 0), 0.8, fill=False, linestyle='dashed', linewidth=0.8, color='#FF7597')
venus_orbit = plt.Circle((0, 0), 1.2, fill=False, linestyle='dashed', linewidth=0.8, color='#03DAC6')
mars_orbit = plt.Circle((0, 0), 4, fill=False, linestyle='dashed', linewidth=0.8, color='#CF6679')
#FF7597
# Add the Sun, Earth, Moon, Mercury, Venus, and orbits to the plot
ax.add_patch(back)
ax.add_patch(sun)
ax.add_patch(earth)
ax.add_patch(moon)
ax.add_patch(mercury)
ax.add_patch(venus)
ax.add_patch(mars)
ax.add_patch(earth_orbit)
ax.add_patch(mercury_orbit)
ax.add_patch(venus_orbit)
ax.add_patch(mars_orbit)

# Add day and month labels
day_label = ax.text(-3.8, -3.0, '', fontsize=14, color='cyan')
month_label = ax.text(-3.8, -2.6, '', fontsize=14, color='cyan')

# Define rotation times (in seconds)
earth_rotation_time = 365
moon_orbit_time = 29 * earth_rotation_time/365
mercury_rotation_time = 87 * earth_rotation_time/365
venus_rotation_time = 224 * earth_rotation_time/365
mars_rotation_time = 1.88* earth_rotation_time

# Function to update the animation
def update(frame):
    # Calculate the new Earth position
    earth_angle = np.radians(frame * 360 / earth_rotation_time)
    earth_x = 2 * np.cos(earth_angle)
    earth_y = 2 * np.sin(earth_angle)
    
    # Calculate the new Moon position
    moon_angle = np.radians(frame * 360 / moon_orbit_time)
    moon_x = earth_x + 0.2 * np.cos(moon_angle)
    moon_y = earth_y + 0.2 * np.sin(moon_angle)
    
    # Calculate the new Mercury position
    mercury_angle = np.radians(frame * 360 / mercury_rotation_time)
    mercury_x = 0.8 * np.cos(mercury_angle)
    mercury_y = 0.8 * np.sin(mercury_angle)
    
    # Calculate the new Venus position
    venus_angle = np.radians(frame * 360 / venus_rotation_time)
    venus_x = 1.2 * np.cos(venus_angle)
    venus_y = 1.2 * np.sin(venus_angle)
    
    
    # Calculate the new Venus position
    mars_angle = np.radians(frame * 360 / mars_rotation_time)
    mars_x = 4.0 * np.cos(mars_angle)
    mars_y = 4.0 * np.sin(mars_angle)    
    
    
    # Update the Earth, Moon, Mercury, and Venus positions
    earth.center = (earth_x, earth_y)
    moon.center = (moon_x, moon_y)
    mercury.center = (mercury_x, mercury_y)
    venus.center = (venus_x, venus_y)
    mars.center = (mars_x, mars_y)
    
    # Update the day and month labels
    day_label.set_text('Day: {:6.1f}\n'.format(frame))
    month_label.set_text('Month: {:6.2f}\n'.format(frame / 30.0))
    
    return earth, moon, mercury, venus, day_label, month_label

# Create the animation
animation = FuncAnimation(fig, update, frames=np.linspace(0, 3*earth_rotation_time, 360),
                          interval=100, blit=True)

# Set the video quality
#animation.save('orbit_animation.mp4', writer='ffmpeg', dpi=600)
sns.set_style(rc = {'axes.facecolor': 'black'})
# Display the animation
plt.axis('scaled')

plt.xlim(-4.5, 4.5)
plt.ylim(-4.5, 4.5)
plt.close()  # Prevents duplicate display of the animation in Colab
plt.rcParams['animation.html'] = 'html5'
HTML(animation.to_jshtml())
