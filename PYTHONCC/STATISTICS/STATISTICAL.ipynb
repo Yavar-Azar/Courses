{
 "cells": [
  {
   "cell_type": "markdown",
   "id": "f403ef31",
   "metadata": {},
   "source": [
    "## Probability Distributions\n",
    "\n",
    "Many statistical tools and techniques used in data analysis are based on probability. Probability measures how likely it is for an event to occur on a scale from 0 (the event never occurs) to 1 (the event always occurs). When working with data, variables in the columns of the data set can be thought of as random variables: variables that vary due to chance. A probability distribution describes how a random variable is distributed; it tells us which values a random variable is most likely to take on and which values are less likely.\n",
    "\n",
    "In statistics, there are a range of precisely defined probability distributions that have different shapes and can be used to model different types of random events. In this lesson we'll discuss some common probability distributions and how to work with them in Python.\n",
    "\n",
    "\n",
    "\n",
    "\n",
    "## Continuous vs. Discrete Distributions\n",
    "\n",
    "A discrete distribution is one in which the data can only take on certain values, for example integers. A continuous distribution is one in which data can take on any value within a specified range (which may be infinite).\n",
    "\n",
    "\n",
    "\n",
    "\n",
    "\n",
    "\n",
    "=====================================================\n",
    "\n",
    "\n",
    "Moments [of a statistical distribution]\n",
    "\n",
    "\n",
    "\n",
    "The shape of any distribution can be described by its various ‘moments’. The first four are:\n",
    "\n",
    "1) The mean, which indicates the central tendency of a distribution.\n",
    "\n",
    "2) The second moment is the variance, which indicates the width or deviation.\n",
    "\n",
    "3) The third moment is the skewness, which indicates any asymmetric ‘leaning’ to either left or right.\n",
    "\n",
    "4) The fourth moment is the Kurtosis, which indicates the degree of central ‘peakedness’ or, equivalently, the ‘fatness’ of the outer tails."
   ]
  },
  {
   "cell_type": "markdown",
   "id": "6381ef4f",
   "metadata": {},
   "source": [
    "## Basic Concepts\n",
    "\n",
    "In probability theory, a **probability density function (pdf)**, or density of a continuous random variable, is a function whose value at any given sample (or point) in the sample space (the set of possible values taken by the random variable) can be interpreted as providing a relative likelihood that the value of the random variable would be close to that sample\n",
    "\n",
    "\n",
    "\n",
    "The **cumulative distribution function (cdf)** evaluated at x, is the probability that the random variable (X) will take a value less than or equal to x. The cdf of normal distribution is defined as:\n",
    "\n",
    "$$F_X(x)=P(x<X)$$\n",
    "\n",
    "\n",
    "$$ F_{X}(x)=\\int _{-\\infty }^{x}f_{X}(t)\\,dt$$\n"
   ]
  },
  {
   "cell_type": "markdown",
   "id": "f43ad30b",
   "metadata": {},
   "source": [
    "## Uniform Distribution\n",
    "\n",
    "\n",
    "\n",
    "\n",
    "\n",
    "\n"
   ]
  },
  {
   "cell_type": "code",
   "execution_count": 1,
   "id": "d10ca7d9",
   "metadata": {},
   "outputs": [],
   "source": [
    "\n",
    "import numpy as np\n",
    "import pandas as pd\n",
    "import matplotlib.pyplot as plt\n",
    "import scipy.stats as stats\n",
    "from scipy.stats import uniform\n",
    "\n",
    "\n",
    "\n",
    "uniform_data = uniform.rvs(size=100, # Generate 100000 numbers\n",
    "                                 loc = 0,      # From 0 \n",
    "                            scale=1) "
   ]
  },
  {
   "cell_type": "code",
   "execution_count": 2,
   "id": "a9758bfe",
   "metadata": {},
   "outputs": [
    {
     "data": {
      "text/plain": [
       "array([0.22130112, 0.43356824, 0.81686803, 0.78414273, 0.44886552,\n",
       "       0.50048936, 0.35842308, 0.33557442, 0.6656807 , 0.31088817,\n",
       "       0.72034391, 0.90078975, 0.16870931, 0.67805855, 0.1094802 ,\n",
       "       0.20047244, 0.15797366, 0.62055633, 0.02389003, 0.14566424,\n",
       "       0.63229954, 0.31449358, 0.76632801, 0.69984673, 0.49684045,\n",
       "       0.41972423, 0.96317857, 0.04284416, 0.01728028, 0.39465145,\n",
       "       0.96889733, 0.47928232, 0.83793543, 0.50674493, 0.31377957,\n",
       "       0.70519112, 0.8111129 , 0.62399294, 0.57244069, 0.34675619,\n",
       "       0.80463579, 0.98588432, 0.91132933, 0.76581148, 0.30742707,\n",
       "       0.72877349, 0.42408459, 0.91094934, 0.95547213, 0.92424859,\n",
       "       0.9946019 , 0.60428678, 0.5298559 , 0.58096038, 0.12784176,\n",
       "       0.6080031 , 0.09614784, 0.92511731, 0.2310094 , 0.28272878,\n",
       "       0.14175023, 0.47688118, 0.80822427, 0.38124507, 0.57254196,\n",
       "       0.71178677, 0.44538674, 0.03237496, 0.77131252, 0.47956527,\n",
       "       0.30013031, 0.54366182, 0.6950374 , 0.66857956, 0.81702358,\n",
       "       0.91363629, 0.54453882, 0.77725443, 0.02678706, 0.14470799,\n",
       "       0.25788953, 0.45458536, 0.59360592, 0.53397881, 0.45598273,\n",
       "       0.2977987 , 0.73733432, 0.75548522, 0.47605935, 0.84543417,\n",
       "       0.57031013, 0.57965483, 0.860625  , 0.32032413, 0.11433691,\n",
       "       0.21365392, 0.68131701, 0.28582287, 0.98006054, 0.56593104])"
      ]
     },
     "execution_count": 2,
     "metadata": {},
     "output_type": "execute_result"
    }
   ],
   "source": [
    "uniform_data"
   ]
  },
  {
   "cell_type": "code",
   "execution_count": 3,
   "id": "c62163aa",
   "metadata": {},
   "outputs": [],
   "source": [
    "mean, var, skew, kurt = uniform.stats(moments='mvsk')"
   ]
  },
  {
   "cell_type": "code",
   "execution_count": 4,
   "id": "f56a5f51",
   "metadata": {},
   "outputs": [
    {
     "data": {
      "text/plain": [
       "(0.01728028193632969, 0.994601896871045)"
      ]
     },
     "execution_count": 4,
     "metadata": {},
     "output_type": "execute_result"
    }
   ],
   "source": [
    "uniform_data.min(), uniform_data.max()"
   ]
  },
  {
   "cell_type": "code",
   "execution_count": 5,
   "id": "73bdfb4f",
   "metadata": {},
   "outputs": [
    {
     "data": {
      "text/plain": [
       "(0.5304714621423038, 0.07311277200553676)"
      ]
     },
     "execution_count": 5,
     "metadata": {},
     "output_type": "execute_result"
    }
   ],
   "source": [
    "uniform_data.mean(), uniform_data.var()"
   ]
  },
  {
   "cell_type": "code",
   "execution_count": 6,
   "id": "ac2b1307",
   "metadata": {},
   "outputs": [
    {
     "data": {
      "text/plain": [
       "numpy.ndarray"
      ]
     },
     "execution_count": 6,
     "metadata": {},
     "output_type": "execute_result"
    }
   ],
   "source": [
    "type(uniform_data)"
   ]
  },
  {
   "cell_type": "code",
   "execution_count": 7,
   "id": "c6305177",
   "metadata": {},
   "outputs": [
    {
     "data": {
      "text/plain": [
       "(100,)"
      ]
     },
     "execution_count": 7,
     "metadata": {},
     "output_type": "execute_result"
    }
   ],
   "source": [
    "np.shape(uniform_data)"
   ]
  },
  {
   "cell_type": "code",
   "execution_count": 8,
   "id": "cf732a5f",
   "metadata": {},
   "outputs": [
    {
     "data": {
      "text/plain": [
       "[<matplotlib.lines.Line2D at 0x7f5d6c6ae620>]"
      ]
     },
     "execution_count": 8,
     "metadata": {},
     "output_type": "execute_result"
    },
    {
     "data": {
      "image/png": "[encoded data removed]",
      "text/plain": [
       "<Figure size 432x288 with 1 Axes>"
      ]
     },
     "metadata": {
      "needs_background": "light"
     },
     "output_type": "display_data"
    }
   ],
   "source": [
    "plt.hist(uniform_data, bins=10, density=True, edgecolor='blue')\n",
    "x=np.linspace(0,1,100)\n",
    "y = uniform.pdf(x, 0, 1)\n",
    "plt.plot(x,y)"
   ]
  },
  {
   "cell_type": "markdown",
   "id": "5687d192",
   "metadata": {},
   "source": [
    "## Normal distribution"
   ]
  },
  {
   "cell_type": "code",
   "execution_count": 9,
   "id": "92a3327c",
   "metadata": {},
   "outputs": [],
   "source": [
    "from scipy.stats import norm\n",
    "\n",
    "normval = norm.rvs(size=100)\n",
    "\n",
    "x = np.linspace(-5,5,100)\n",
    "   \n",
    "y = norm.pdf(x)\n",
    "cd = norm.cdf(x)\n",
    "\n"
   ]
  },
  {
   "cell_type": "code",
   "execution_count": 10,
   "id": "c46bf63e",
   "metadata": {},
   "outputs": [
    {
     "data": {
      "text/plain": [
       "[<matplotlib.lines.Line2D at 0x7f5d6a5e3970>]"
      ]
     },
     "execution_count": 10,
     "metadata": {},
     "output_type": "execute_result"
    },
    {
     "data": {
      "image/png": "[encoded data removed]",
      "text/plain": [
       "<Figure size 432x288 with 1 Axes>"
      ]
     },
     "metadata": {
      "needs_background": "light"
     },
     "output_type": "display_data"
    }
   ],
   "source": [
    "plt.hist(normval, density=True,edgecolor='blue')\n",
    "plt.plot(x,y)\n",
    "plt.plot(x,cd)"
   ]
  },
  {
   "cell_type": "markdown",
   "id": "b781fa26",
   "metadata": {},
   "source": [
    "------------------------------------------\n",
    "\n",
    "\n",
    "### Probability mass function \n",
    "\n",
    "\n",
    "In probability and statistics, a probability mass function is a function that gives the probability that a discrete random variable is exactly equal to some value. Sometimes it is also known as the discrete density function.\n",
    "\n",
    "\n",
    "Probability mass function is the probability distribution of a discrete random variable, and provides the possible values and their associated probabilities. It is the function $p:\\mathbb {R} \\to [0,1]$  defined by\n",
    "\n",
    "\n",
    "$$p_{X}(x)=P(X=x)$$\n",
    "\n",
    "\n",
    "$\\sum _{x}p_{X}(x)=1$  and  $p_{X}(x)\\geq 0.$\n",
    "\n",
    "\n",
    "\n",
    "\n",
    "\n",
    "\n",
    "\n",
    "\n",
    "\n",
    "\n",
    "\n",
    "\n",
    "-----------------------------------------------------------------------"
   ]
  },
  {
   "cell_type": "markdown",
   "id": "38a8729b",
   "metadata": {},
   "source": [
    "Famous discrete distribution\n",
    "\n",
    "- Bernoulli\n",
    "- Binomial\n",
    "\n"
   ]
  },
  {
   "cell_type": "markdown",
   "id": "1172ef3f",
   "metadata": {},
   "source": [
    "### Bernoulli"
   ]
  },
  {
   "cell_type": "code",
   "execution_count": 11,
   "id": "ebf6e170",
   "metadata": {},
   "outputs": [
    {
     "data": {
      "text/plain": [
       "0.0"
      ]
     },
     "execution_count": 11,
     "metadata": {},
     "output_type": "execute_result"
    }
   ],
   "source": [
    "from scipy.stats import bernoulli \n",
    "\n",
    "ber=bernoulli.rvs(0.7, 0, 10)\n",
    "bernoulli.ppf(0.01, 0.94)"
   ]
  },
  {
   "cell_type": "markdown",
   "id": "a1c3013b",
   "metadata": {},
   "source": [
    "### Permutation and Combination in Python\n"
   ]
  },
  {
   "cell_type": "code",
   "execution_count": 12,
   "id": "3c16a35c",
   "metadata": {},
   "outputs": [
    {
     "name": "stdout",
     "output_type": "stream",
     "text": [
      "(1, 2, 3)\n",
      "(1, 3, 2)\n",
      "(2, 1, 3)\n",
      "(2, 3, 1)\n",
      "(3, 1, 2)\n",
      "(3, 2, 1)\n"
     ]
    }
   ],
   "source": [
    "# A Python program to print all\n",
    "# permutations using library function\n",
    "from itertools import permutations\n",
    "\n",
    "\n",
    "# Get all permutations of [1, 2, 3]\n",
    "perm = permutations([1, 2, 3])\n",
    "\n",
    "# Print the obtained permutations\n",
    "for i in list(perm):\n",
    "\tprint (i)\n"
   ]
  },
  {
   "cell_type": "code",
   "execution_count": 13,
   "id": "f2098b2c",
   "metadata": {},
   "outputs": [
    {
     "name": "stdout",
     "output_type": "stream",
     "text": [
      "(1, 2)\n",
      "(1, 3)\n",
      "(2, 1)\n",
      "(2, 3)\n",
      "(3, 1)\n",
      "(3, 2)\n"
     ]
    }
   ],
   "source": [
    "# A Python program to print all\n",
    "# permutations of given length\n",
    "from itertools import permutations\n",
    "\n",
    "# Get all permutations of length 2\n",
    "# and length 2\n",
    "perm = permutations([1, 2, 3], 2)\n",
    "\n",
    "# Print the obtained permutations\n",
    "for i in list(perm):\n",
    "\tprint (i)\n"
   ]
  },
  {
   "cell_type": "code",
   "execution_count": 14,
   "id": "c384d64f",
   "metadata": {},
   "outputs": [
    {
     "name": "stdout",
     "output_type": "stream",
     "text": [
      "(1, 2)\n",
      "(1, 3)\n",
      "(2, 3)\n"
     ]
    }
   ],
   "source": [
    "from itertools import combinations\n",
    "\n",
    "# Get all permutations of length 2\n",
    "# and length 2\n",
    "comb = combinations([1, 2, 3], 2)\n",
    "\n",
    "# Print the obtained permutations\n",
    "for i in list(comb):\n",
    "\tprint (i)"
   ]
  },
  {
   "cell_type": "code",
   "execution_count": 24,
   "id": "413450ff",
   "metadata": {},
   "outputs": [
    {
     "name": "stdout",
     "output_type": "stream",
     "text": [
      "120\n",
      "combination of 5,4 is 5\n"
     ]
    },
    {
     "data": {
      "text/plain": [
       "(1, 1, 0)"
      ]
     },
     "execution_count": 24,
     "metadata": {},
     "output_type": "execute_result"
    }
   ],
   "source": [
    "import math\n",
    "\n",
    "\n",
    "print(math.perm(5,4))\n",
    "\n",
    "print(\"combination of 5,4 is {}\".format(math.comb(5,4)))\n",
    "\n",
    "math.comb(5,0), math.comb(5,5), math.comb(5,6)"
   ]
  },
  {
   "cell_type": "markdown",
   "id": "5051195e",
   "metadata": {},
   "source": [
    "### Binomial Distribution\n",
    "\n",
    "\n",
    "Probability mass function\n",
    "In general, if the random variable X follows the binomial distribution with parameters n ∈ $ \\mathbb {N} $ and p ∈ [0,1], we write X ~ B(n, p). The probability of getting exactly k successes in n independent Bernoulli trials is given by the probability mass function:\n",
    "\n",
    "$$f(k,n,p)=\\Pr(k;n,p)=\\Pr(X=k)={n \\choose x}p^{k}(1-p)^{n-k}$$"
   ]
  },
  {
   "cell_type": "code",
   "execution_count": 16,
   "id": "8b811cf0",
   "metadata": {},
   "outputs": [
    {
     "name": "stdout",
     "output_type": "stream",
     "text": [
      "mean value is  9.933\n",
      "variance value is  5.088511000000001\n"
     ]
    },
    {
     "data": {
      "image/png": "[encoded data removed]",
      "text/plain": [
       "<Figure size 432x288 with 1 Axes>"
      ]
     },
     "metadata": {
      "needs_background": "light"
     },
     "output_type": "display_data"
    }
   ],
   "source": [
    "from scipy.stats import binom, moment\n",
    "import matplotlib.pyplot as plt\n",
    "import numpy as np\n",
    "\n",
    "#fixing the seed for reproducibility\n",
    "#of the result\n",
    "np.random.seed(10)\n",
    "\n",
    "#creating a vector containing 10000\n",
    "#random values from binomial distribution\n",
    "y = binom.rvs(20, 0.5, 0, 1000)\n",
    "\n",
    "#creating bin\n",
    "bin = np.arange(0,25,1)  \n",
    "\n",
    "\n",
    "\n",
    "plt.hist(y, bins=bin, edgecolor='blue')\n",
    "\n",
    "print(\"mean value is  {}\".format(y.mean()))\n",
    "print(\"variance value is  {}\".format(y.var()))\n",
    "\n",
    "\n"
   ]
  },
  {
   "cell_type": "code",
   "execution_count": null,
   "id": "c915a57f",
   "metadata": {},
   "outputs": [],
   "source": []
  },
  {
   "cell_type": "markdown",
   "id": "a0f549b0",
   "metadata": {},
   "source": [
    "Plot pmf for binom"
   ]
  },
  {
   "cell_type": "code",
   "execution_count": 17,
   "id": "8e008981",
   "metadata": {},
   "outputs": [
    {
     "data": {
      "text/plain": [
       "(0.0,)"
      ]
     },
     "execution_count": 17,
     "metadata": {},
     "output_type": "execute_result"
    }
   ],
   "source": [
    "\n",
    "\n",
    "binom.pmf(11, 10, 0.5), "
   ]
  },
  {
   "cell_type": "code",
   "execution_count": 18,
   "id": "ef638860",
   "metadata": {},
   "outputs": [
    {
     "data": {
      "text/plain": [
       "<matplotlib.collections.LineCollection at 0x7f5d6a4cb250>"
      ]
     },
     "execution_count": 18,
     "metadata": {},
     "output_type": "execute_result"
    },
    {
     "data": {
      "image/png": "[encoded data removed]",
      "text/plain": [
       "<Figure size 432x288 with 1 Axes>"
      ]
     },
     "metadata": {
      "needs_background": "light"
     },
     "output_type": "display_data"
    }
   ],
   "source": [
    "n, p = 10, 0.4\n",
    "\n",
    "#x = np.arange(binom.ppf(0.01, n, p),binom.ppf(0.99, n, p))\n",
    "\n",
    "x=np.arange(0,10)\n",
    "\n",
    "plt.plot(x, binom.pmf(x, n, p), 'bo', ms=8, label='binom pmf')\n",
    "plt.vlines(x, 0, binom.pmf(x, n, p), colors='b', lw=5, alpha=0.5)"
   ]
  },
  {
   "cell_type": "code",
   "execution_count": 23,
   "id": "d29a2682",
   "metadata": {},
   "outputs": [
    {
     "data": {
      "text/plain": [
       "<matplotlib.collections.LineCollection at 0x7f5d6a238850>"
      ]
     },
     "execution_count": 23,
     "metadata": {},
     "output_type": "execute_result"
    },
    {
     "data": {
      "image/png": "[encoded data removed]",
      "text/plain": [
       "<Figure size 432x288 with 1 Axes>"
      ]
     },
     "metadata": {
      "needs_background": "light"
     },
     "output_type": "display_data"
    }
   ],
   "source": [
    "n, p = 20, 0.8\n",
    "\n",
    "#x = np.arange(binom.ppf(0.01, n, p),binom.ppf(0.99, n, p))\n",
    "\n",
    "x=np.arange(0,25)\n",
    "\n",
    "plt.plot(x, binom.pmf(x, n, p), 'bo', ms=8, label='binom pmf')\n",
    "plt.vlines(x, 0, binom.pmf(x, n, p), colors='b', lw=5, alpha=0.5)"
   ]
  },
  {
   "cell_type": "markdown",
   "id": "f166cd9d",
   "metadata": {},
   "source": [
    "### What is a Poisson process\n",
    "\n",
    "A Poisson point process (or simply, Poisson process) is a collection of points randomly located in mathematical space.\n",
    "\n",
    "Due to its several properties, the Poisson process is often defined on a real line, where it can be considered a random (stochastic) process in one dimension. This further allows to build mathematical systems and study certain events that appear in a random manner.\n",
    "\n",
    "One of its important properties is that each point of the process is stochastically independent from other points in the process.\n",
    "\n",
    "As an example we can think of an example where such process can be observed in real life. Suppose you are studying the historical frequencies of hurricanes. This indeed is a random process, since the number of hurricanes this year is independent of the number of hurricanes las year and so on. However, over time you may be observing some trends, average frequency, and more.\n",
    "\n",
    "Mathematically speaking, in this case, the point process depends on something that might be some constant, such as average rate (average number of customers calling, for example).\n",
    "\n",
    "A Poisson process is defined by a Poisson distribution.\n",
    "\n",
    "\n",
    "\n",
    "\n",
    "### What is a Poisson distribution?\n",
    "\n",
    "A Poisson distribution is a discrete probability distribution of a number of events occurring in a fixed interval of time given two conditions:\n",
    "\n",
    "- Events occur with some constant mean rate.\n",
    "- Events are independent of each other and independent of time.\n",
    "\n",
    "To put this in some context, consider our example of frequencies of hurricanes from the previous section.\n",
    "\n",
    "Assume that when we have data on observing hurricanes over a period of 20 years. We find that the average number of hurricanes per year is 7. Each year is independent of previous years, which means that if we observed 8 hurricanes this year, it doesn’t mean we will observe 8 next year.\n",
    "\n",
    "The PMF (probability mass function) of a Poisson distribution is given by:\n",
    "\n",
    "$$ p(k, \\lambda) = \\frac{\\lambda^{k}e^{-\\lambda}}{k!} $$\n",
    "\n",
    "\n",
    "where:\n",
    "\n",
    "λ is a real positive number given by λ=E(X)=μ\n",
    "k is the number of occurrences\n",
    "e=2.71828\n",
    "\n",
    "The Pr(X=k) can be read as: Poisson probability of k events in an interval.\n",
    "\n",
    "And the CDF (cumulative distribution function) of a Poisson distribution is given by:\n",
    "\n",
    "$$F(k, \\lambda) = \\sum^{k}_{i=0}  \\frac{\\lambda^{i}e^{-\\lambda}}{i!}$$"
   ]
  },
  {
   "cell_type": "code",
   "execution_count": 1,
   "id": "361f9caf",
   "metadata": {},
   "outputs": [
    {
     "name": "stdout",
     "output_type": "stream",
     "text": [
      "[ 0  1  2  3  4  5  6  7  8  9 10 11 12 13 14 15 16]\n",
      "[0.00091 0.00638 0.02234 0.05213 0.09123 0.12772 0.149   0.149   0.13038\n",
      " 0.1014  0.07098 0.04517 0.02635 0.01419 0.00709 0.00331 0.00145]\n"
     ]
    }
   ],
   "source": [
    "import numpy as np\n",
    "import matplotlib.pyplot as plt\n",
    "from scipy.stats import poisson\n",
    "\n",
    "\n",
    "k = np.arange(0, 17)\n",
    "\n",
    "print(k)\n",
    "\n",
    "\n",
    "\n",
    "pmf = poisson.pmf(k, mu=7)\n",
    "pmf = np.round(pmf, 5)\n",
    "\n",
    "print(pmf)\n"
   ]
  },
  {
   "cell_type": "code",
   "execution_count": 2,
   "id": "910ca8c1",
   "metadata": {},
   "outputs": [
    {
     "name": "stdout",
     "output_type": "stream",
     "text": [
      "k-value 0 has probability = 0.00091\n",
      "k-value 1 has probability = 0.00638\n",
      "k-value 2 has probability = 0.02234\n",
      "k-value 3 has probability = 0.05213\n",
      "k-value 4 has probability = 0.09123\n",
      "k-value 5 has probability = 0.12772\n",
      "k-value 6 has probability = 0.149\n",
      "k-value 7 has probability = 0.149\n",
      "k-value 8 has probability = 0.13038\n",
      "k-value 9 has probability = 0.1014\n",
      "k-value 10 has probability = 0.07098\n",
      "k-value 11 has probability = 0.04517\n",
      "k-value 12 has probability = 0.02635\n",
      "k-value 13 has probability = 0.01419\n",
      "k-value 14 has probability = 0.00709\n",
      "k-value 15 has probability = 0.00331\n",
      "k-value 16 has probability = 0.00145\n"
     ]
    }
   ],
   "source": [
    "for val, prob in zip(k,pmf):\n",
    "    print(f\"k-value {val} has probability = {prob}\")\n"
   ]
  },
  {
   "cell_type": "code",
   "execution_count": 3,
   "id": "a192422a",
   "metadata": {},
   "outputs": [
    {
     "data": {
      "image/png": "[encoded data removed]",
      "text/plain": [
       "<Figure size 432x288 with 1 Axes>"
      ]
     },
     "metadata": {
      "needs_background": "light"
     },
     "output_type": "display_data"
    }
   ],
   "source": [
    "plt.plot(k, pmf, marker='o')\n",
    "plt.xlabel('k')\n",
    "plt.ylabel('Probability')\n",
    "\n",
    "plt.show()\n"
   ]
  },
  {
   "cell_type": "code",
   "execution_count": 4,
   "id": "cb833e96",
   "metadata": {},
   "outputs": [
    {
     "name": "stdout",
     "output_type": "stream",
     "text": [
      "[0.001 0.007 0.03  0.082 0.173 0.301 0.45  0.599 0.729 0.83  0.901 0.947\n",
      " 0.973 0.987 0.994 0.998 0.999]\n"
     ]
    }
   ],
   "source": [
    "cdf = poisson.cdf(k, mu=7)\n",
    "cdf = np.round(cdf, 3)\n",
    "\n",
    "print(cdf)\n"
   ]
  },
  {
   "cell_type": "code",
   "execution_count": 5,
   "id": "fcacab84",
   "metadata": {},
   "outputs": [
    {
     "data": {
      "image/png": "[encoded data removed]",
      "text/plain": [
       "<Figure size 432x288 with 1 Axes>"
      ]
     },
     "metadata": {
      "needs_background": "light"
     },
     "output_type": "display_data"
    }
   ],
   "source": [
    "plt.plot(k, cdf, marker='o')\n",
    "plt.xlabel('k')\n",
    "plt.ylabel('Cumulative Probability')\n",
    "\n",
    "plt.show()\n"
   ]
  },
  {
   "cell_type": "code",
   "execution_count": 13,
   "id": "933cb95e",
   "metadata": {
    "scrolled": true
   },
   "outputs": [
    {
     "data": {
      "image/png": "[encoded data removed]",
      "text/plain": [
       "<Figure size 360x360 with 1 Axes>"
      ]
     },
     "metadata": {
      "needs_background": "light"
     },
     "output_type": "display_data"
    }
   ],
   "source": [
    "from numpy import random\n",
    "import matplotlib.pyplot as plt\n",
    "import seaborn as sns\n",
    "\n",
    "sns.displot(random.poisson(lam=2, size=1000), kde=False)\n",
    "\n",
    "plt.show()"
   ]
  },
  {
   "cell_type": "code",
   "execution_count": 16,
   "id": "32f36698",
   "metadata": {},
   "outputs": [
    {
     "data": {
      "text/plain": [
       "<BarContainer object of 25 artists>"
      ]
     },
     "execution_count": 16,
     "metadata": {},
     "output_type": "execute_result"
    },
    {
     "data": {
      "image/png": "[encoded data removed]",
      "text/plain": [
       "<Figure size 432x288 with 1 Axes>"
      ]
     },
     "metadata": {
      "needs_background": "light"
     },
     "output_type": "display_data"
    }
   ],
   "source": [
    "lambd=6\n",
    "\n",
    "from scipy.stats import poisson\n",
    "\n",
    "poisson.pmf(5, 2)\n",
    "\n",
    "k_axis = np.arange(0, 25)\n",
    "distribution = np.zeros(k_axis.shape[0])\n",
    "for i in range(k_axis.shape[0]):\n",
    "    distribution[i] = poisson.pmf(i, lambd)\n",
    "\n",
    "plt.bar(k_axis, distribution)\n",
    "# [...] Add axes, labels...\n"
   ]
  },
  {
   "cell_type": "code",
   "execution_count": 17,
   "id": "963f8884",
   "metadata": {},
   "outputs": [
    {
     "data": {
      "image/png": "[encoded data removed]",
      "text/plain": [
       "<Figure size 432x576 with 6 Axes>"
      ]
     },
     "metadata": {
      "needs_background": "light"
     },
     "output_type": "display_data"
    }
   ],
   "source": [
    "f, axes = plt.subplots(6, figsize=(6, 8), sharex=True)\n",
    "\n",
    "for lambd in range(1, 7):\n",
    "\n",
    "    k_axis = np.arange(0, 20)\n",
    "    distribution = np.zeros(k_axis.shape[0])\n",
    "    for i in range(k_axis.shape[0]):\n",
    "        distribution[i] = poisson.pmf(i, lambd)\n",
    "\n",
    "    axes[lambd-1].bar(k_axis, distribution)\n",
    "    axes[lambd-1].set_xticks(np.arange(0, 20, 2))\n",
    "    axes[lambd-1].set_title(f\"$\\lambda$: {lambd}\")\n"
   ]
  }
 ],
 "metadata": {
  "kernelspec": {
   "display_name": "Python 3 (ipykernel)",
   "language": "python",
   "name": "python3"
  },
  "language_info": {
   "codemirror_mode": {
    "name": "ipython",
    "version": 3
   },
   "file_extension": ".py",
   "mimetype": "text/x-python",
   "name": "python",
   "nbconvert_exporter": "python",
   "pygments_lexer": "ipython3",
   "version": "3.10.8"
  }
 },
 "nbformat": 4,
 "nbformat_minor": 5
}
