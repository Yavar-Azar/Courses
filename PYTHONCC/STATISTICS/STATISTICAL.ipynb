{
 "cells": [
  {
   "cell_type": "markdown",
   "id": "f403ef31",
   "metadata": {},
   "source": [
    "## Probability Distributions\n",
    "\n",
    "Many statistical tools and techniques used in data analysis are based on probability. Probability measures how likely it is for an event to occur on a scale from 0 (the event never occurs) to 1 (the event always occurs). When working with data, variables in the columns of the data set can be thought of as random variables: variables that vary due to chance. A probability distribution describes how a random variable is distributed; it tells us which values a random variable is most likely to take on and which values are less likely.\n",
    "\n",
    "In statistics, there are a range of precisely defined probability distributions that have different shapes and can be used to model different types of random events. In this lesson we'll discuss some common probability distributions and how to work with them in Python."
   ]
  },
  {
   "cell_type": "code",
   "execution_count": 1,
   "id": "d10ca7d9",
   "metadata": {},
   "outputs": [],
   "source": [
    "\n",
    "import numpy as np\n",
    "import pandas as pd\n",
    "import matplotlib.pyplot as plt\n",
    "import scipy.stats as stats\n",
    "from scipy.stats import gaussian_kde\n",
    "\n",
    "\n",
    "uniform_data = stats.uniform.rvs(size=10000, # Generate 100000 numbers\n",
    "                                 loc = 0,      # From 0 \n",
    "                                 scale=100) "
   ]
  },
  {
   "cell_type": "code",
   "execution_count": 2,
   "id": "ac2b1307",
   "metadata": {},
   "outputs": [
    {
     "data": {
      "text/plain": [
       "numpy.ndarray"
      ]
     },
     "execution_count": 2,
     "metadata": {},
     "output_type": "execute_result"
    }
   ],
   "source": [
    "type(uniform_data)"
   ]
  },
  {
   "cell_type": "code",
   "execution_count": 3,
   "id": "c6305177",
   "metadata": {},
   "outputs": [
    {
     "data": {
      "text/plain": [
       "(10000,)"
      ]
     },
     "execution_count": 3,
     "metadata": {},
     "output_type": "execute_result"
    }
   ],
   "source": [
    "np.shape(uniform_data)"
   ]
  },
  {
   "cell_type": "code",
   "execution_count": 4,
   "id": "cf732a5f",
   "metadata": {},
   "outputs": [
    {
     "data": {
      "text/plain": [
       "(array([100.,  95.,  97.,  94.,  90., 116., 102., 112., 105.,  79.,  83.,\n",
       "        115.,  86.,  98., 113.,  96.,  90., 110.,  95., 107.,  88., 102.,\n",
       "        101.,  94., 118.,  99., 107., 111., 117.,  95.,  93., 106.,  92.,\n",
       "        115., 106.,  98.,  96.,  87.,  87., 116.,  96., 106., 113., 121.,\n",
       "        106.,  89., 102.,  95., 109., 103., 111., 103., 102.,  89., 111.,\n",
       "         93., 101.,  90., 112.,  92., 117.,  93., 103.,  94.,  98., 112.,\n",
       "         94., 100., 113., 114.,  99.,  88., 108.,  88., 109.,  87.,  83.,\n",
       "         89.,  73., 124.,  97.,  99., 104., 116., 105.,  82., 100.,  97.,\n",
       "         96., 102., 104.,  90.,  89., 106.,  95., 104., 105.,  94.,  98.,\n",
       "         76.]),\n",
       " array([9.34793374e-04, 1.00056249e+00, 2.00019018e+00, 2.99981787e+00,\n",
       "        3.99944556e+00, 4.99907326e+00, 5.99870095e+00, 6.99832864e+00,\n",
       "        7.99795633e+00, 8.99758403e+00, 9.99721172e+00, 1.09968394e+01,\n",
       "        1.19964671e+01, 1.29960948e+01, 1.39957225e+01, 1.49953502e+01,\n",
       "        1.59949779e+01, 1.69946056e+01, 1.79942333e+01, 1.89938610e+01,\n",
       "        1.99934886e+01, 2.09931163e+01, 2.19927440e+01, 2.29923717e+01,\n",
       "        2.39919994e+01, 2.49916271e+01, 2.59912548e+01, 2.69908825e+01,\n",
       "        2.79905102e+01, 2.89901379e+01, 2.99897656e+01, 3.09893933e+01,\n",
       "        3.19890210e+01, 3.29886487e+01, 3.39882763e+01, 3.49879040e+01,\n",
       "        3.59875317e+01, 3.69871594e+01, 3.79867871e+01, 3.89864148e+01,\n",
       "        3.99860425e+01, 4.09856702e+01, 4.19852979e+01, 4.29849256e+01,\n",
       "        4.39845533e+01, 4.49841810e+01, 4.59838087e+01, 4.69834363e+01,\n",
       "        4.79830640e+01, 4.89826917e+01, 4.99823194e+01, 5.09819471e+01,\n",
       "        5.19815748e+01, 5.29812025e+01, 5.39808302e+01, 5.49804579e+01,\n",
       "        5.59800856e+01, 5.69797133e+01, 5.79793410e+01, 5.89789687e+01,\n",
       "        5.99785964e+01, 6.09782240e+01, 6.19778517e+01, 6.29774794e+01,\n",
       "        6.39771071e+01, 6.49767348e+01, 6.59763625e+01, 6.69759902e+01,\n",
       "        6.79756179e+01, 6.89752456e+01, 6.99748733e+01, 7.09745010e+01,\n",
       "        7.19741287e+01, 7.29737564e+01, 7.39733840e+01, 7.49730117e+01,\n",
       "        7.59726394e+01, 7.69722671e+01, 7.79718948e+01, 7.89715225e+01,\n",
       "        7.99711502e+01, 8.09707779e+01, 8.19704056e+01, 8.29700333e+01,\n",
       "        8.39696610e+01, 8.49692887e+01, 8.59689164e+01, 8.69685441e+01,\n",
       "        8.79681717e+01, 8.89677994e+01, 8.99674271e+01, 9.09670548e+01,\n",
       "        9.19666825e+01, 9.29663102e+01, 9.39659379e+01, 9.49655656e+01,\n",
       "        9.59651933e+01, 9.69648210e+01, 9.79644487e+01, 9.89640764e+01,\n",
       "        9.99637041e+01]),\n",
       " <BarContainer object of 100 artists>)"
      ]
     },
     "execution_count": 4,
     "metadata": {},
     "output_type": "execute_result"
    },
    {
     "data": {
      "image/png": "[encoded data removed]",
      "text/plain": [
       "<Figure size 432x288 with 1 Axes>"
      ]
     },
     "metadata": {
      "needs_background": "light"
     },
     "output_type": "display_data"
    }
   ],
   "source": [
    "plt.hist(uniform_data, bins=100)"
   ]
  },
  {
   "cell_type": "code",
   "execution_count": 5,
   "id": "18adee5d",
   "metadata": {},
   "outputs": [
    {
     "data": {
      "text/plain": [
       "(array([0.00990369, 0.0099337 , 0.01032384, 0.00996371, 0.01040387,\n",
       "        0.01004374, 0.01038387, 0.00948353, 0.00998372, 0.00961358]),\n",
       " array([9.34793374e-04, 9.99721172e+00, 1.99934886e+01, 2.99897656e+01,\n",
       "        3.99860425e+01, 4.99823194e+01, 5.99785964e+01, 6.99748733e+01,\n",
       "        7.99711502e+01, 8.99674271e+01, 9.99637041e+01]),\n",
       " <BarContainer object of 10 artists>)"
      ]
     },
     "execution_count": 5,
     "metadata": {},
     "output_type": "execute_result"
    },
    {
     "data": {
      "image/png": "[encoded data removed]",
      "text/plain": [
       "<Figure size 432x288 with 1 Axes>"
      ]
     },
     "metadata": {
      "needs_background": "light"
     },
     "output_type": "display_data"
    }
   ],
   "source": [
    "plt.hist(uniform_data, bins=10, density=True)"
   ]
  },
  {
   "cell_type": "code",
   "execution_count": 6,
   "id": "24142dff",
   "metadata": {},
   "outputs": [
    {
     "data": {
      "text/plain": [
       "497013.4079841075"
      ]
     },
     "execution_count": 6,
     "metadata": {},
     "output_type": "execute_result"
    }
   ],
   "source": [
    "np.sum(uniform_data)"
   ]
  },
  {
   "cell_type": "code",
   "execution_count": 7,
   "id": "a93c8275",
   "metadata": {},
   "outputs": [],
   "source": [
    "density=gaussian_kde(uniform_data)"
   ]
  },
  {
   "cell_type": "code",
   "execution_count": 10,
   "id": "5fcc34af",
   "metadata": {},
   "outputs": [
    {
     "data": {
      "text/plain": [
       "<scipy.stats.kde.gaussian_kde at 0x7f28549eb580>"
      ]
     },
     "execution_count": 10,
     "metadata": {},
     "output_type": "execute_result"
    }
   ],
   "source": [
    "density"
   ]
  },
  {
   "cell_type": "code",
   "execution_count": null,
   "id": "895c8a12",
   "metadata": {},
   "outputs": [],
   "source": []
  }
 ],
 "metadata": {
  "kernelspec": {
   "display_name": "Python 3 (ipykernel)",
   "language": "python",
   "name": "python3"
  },
  "language_info": {
   "codemirror_mode": {
    "name": "ipython",
    "version": 3
   },
   "file_extension": ".py",
   "mimetype": "text/x-python",
   "name": "python",
   "nbconvert_exporter": "python",
   "pygments_lexer": "ipython3",
   "version": "3.10.6"
  }
 },
 "nbformat": 4,
 "nbformat_minor": 5
}
