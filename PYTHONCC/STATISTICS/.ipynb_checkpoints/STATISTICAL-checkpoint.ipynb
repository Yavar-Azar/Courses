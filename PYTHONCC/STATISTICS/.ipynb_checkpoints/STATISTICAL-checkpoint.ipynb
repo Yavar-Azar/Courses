{
 "cells": [
  {
   "cell_type": "markdown",
   "id": "f403ef31",
   "metadata": {},
   "source": [
    "## Probability Distributions\n",
    "\n",
    "Many statistical tools and techniques used in data analysis are based on probability. Probability measures how likely it is for an event to occur on a scale from 0 (the event never occurs) to 1 (the event always occurs). When working with data, variables in the columns of the data set can be thought of as random variables: variables that vary due to chance. A probability distribution describes how a random variable is distributed; it tells us which values a random variable is most likely to take on and which values are less likely.\n",
    "\n",
    "In statistics, there are a range of precisely defined probability distributions that have different shapes and can be used to model different types of random events. In this lesson we'll discuss some common probability distributions and how to work with them in Python.\n",
    "\n",
    "\n",
    "\n",
    "=====================================================\n",
    "\n",
    "\n",
    "Moments [of a statistical distribution]\n",
    "\n",
    "\n",
    "\n",
    "The shape of any distribution can be described by its various ‘moments’. The first four are:\n",
    "\n",
    "1) The mean, which indicates the central tendency of a distribution.\n",
    "\n",
    "2) The second moment is the variance, which indicates the width or deviation.\n",
    "\n",
    "3) The third moment is the skewness, which indicates any asymmetric ‘leaning’ to either left or right.\n",
    "\n",
    "4) The fourth moment is the Kurtosis, which indicates the degree of central ‘peakedness’ or, equivalently, the ‘fatness’ of the outer tails."
   ]
  },
  {
   "cell_type": "markdown",
   "id": "6381ef4f",
   "metadata": {},
   "source": [
    "## Basic Concepts\n",
    "\n",
    "In probability theory, a **probability density function (pdf)**, or density of a continuous random variable, is a function whose value at any given sample (or point) in the sample space (the set of possible values taken by the random variable) can be interpreted as providing a relative likelihood that the value of the random variable would be close to that sample\n",
    "\n",
    "\n",
    "\n",
    "The **cumulative distribution function (cdf)** evaluated at x, is the probability that the random variable (X) will take a value less than or equal to x. The cdf of normal distribution is defined as:\n",
    "\n",
    "$$F_X(x)=P(x<X)$$\n",
    "\n",
    "\n",
    "$$ F_{X}(x)=\\int _{-\\infty }^{x}f_{X}(t)\\,dt$$\n"
   ]
  },
  {
   "attachments": {},
   "cell_type": "markdown",
   "id": "f43ad30b",
   "metadata": {},
   "source": [
    "## Uniform Distribution\n",
    "\n",
    "\n",
    "\n",
    "\n",
    "\n",
    "\n"
   ]
  },
  {
   "cell_type": "code",
   "execution_count": 83,
   "id": "d10ca7d9",
   "metadata": {},
   "outputs": [],
   "source": [
    "\n",
    "import numpy as np\n",
    "import pandas as pd\n",
    "import matplotlib.pyplot as plt\n",
    "import scipy.stats as stats\n",
    "from scipy.stats import uniform\n",
    "\n",
    "\n",
    "\n",
    "uniform_data = uniform.rvs(size=100, # Generate 100000 numbers\n",
    "                                 loc = 0,      # From 0 \n",
    "                            scale=1) "
   ]
  },
  {
   "cell_type": "code",
   "execution_count": 84,
   "id": "a9758bfe",
   "metadata": {},
   "outputs": [
    {
     "data": {
      "text/plain": [
       "array([0.79079164, 0.33180684, 0.78966046, 0.64046285, 0.25150115,\n",
       "       0.38053756, 0.05398497, 0.94023971, 0.09045393, 0.67488361,\n",
       "       0.97600403, 0.58577037, 0.32198489, 0.6669828 , 0.53261073,\n",
       "       0.84139672, 0.8880217 , 0.46149956, 0.83108541, 0.0642876 ,\n",
       "       0.63503356, 0.22047681, 0.56405305, 0.92886098, 0.24643427,\n",
       "       0.1757219 , 0.12450992, 0.47298065, 0.21857542, 0.49317508,\n",
       "       0.49981698, 0.38112818, 0.34385933, 0.52641114, 0.28389099,\n",
       "       0.12342837, 0.94043436, 0.57197801, 0.79876387, 0.05982225,\n",
       "       0.7458192 , 0.42707568, 0.38357281, 0.51551631, 0.10338649,\n",
       "       0.45187916, 0.50362524, 0.14553516, 0.70940568, 0.42587919,\n",
       "       0.77287928, 0.61697096, 0.18047178, 0.08022561, 0.86545904,\n",
       "       0.24659658, 0.60204509, 0.1730029 , 0.76913191, 0.63732743,\n",
       "       0.72062229, 0.91123444, 0.90912462, 0.53587497, 0.55133081,\n",
       "       0.43926   , 0.22134503, 0.24038487, 0.33928436, 0.24186744,\n",
       "       0.92412431, 0.18676335, 0.45801849, 0.02977619, 0.90577975,\n",
       "       0.21525129, 0.81719261, 0.9133882 , 0.07955168, 0.33983562,\n",
       "       0.01964846, 0.17449499, 0.11344799, 0.66435672, 0.14025124,\n",
       "       0.18449541, 0.50256802, 0.96416211, 0.36008645, 0.81636433,\n",
       "       0.82210595, 0.0485965 , 0.18143646, 0.95593362, 0.0838903 ,\n",
       "       0.20135825, 0.33216419, 0.5559296 , 0.97211893, 0.92464537])"
      ]
     },
     "execution_count": 84,
     "metadata": {},
     "output_type": "execute_result"
    }
   ],
   "source": [
    "uniform_data"
   ]
  },
  {
   "cell_type": "code",
   "execution_count": 37,
   "id": "c62163aa",
   "metadata": {},
   "outputs": [],
   "source": [
    "mean, var, skew, kurt = uniform.stats(moments='mvsk')"
   ]
  },
  {
   "cell_type": "code",
   "execution_count": 45,
   "id": "f56a5f51",
   "metadata": {},
   "outputs": [
    {
     "data": {
      "text/plain": [
       "(0.10817247551761722, 9.90956994201331)"
      ]
     },
     "execution_count": 45,
     "metadata": {},
     "output_type": "execute_result"
    }
   ],
   "source": [
    "uniform_data.min(), uniform_data.max()"
   ]
  },
  {
   "cell_type": "code",
   "execution_count": 46,
   "id": "73bdfb4f",
   "metadata": {},
   "outputs": [
    {
     "data": {
      "text/plain": [
       "(5.469177783192148, 8.3524627686104)"
      ]
     },
     "execution_count": 46,
     "metadata": {},
     "output_type": "execute_result"
    }
   ],
   "source": [
    "uniform_data.mean(), uniform_data.var()"
   ]
  },
  {
   "cell_type": "code",
   "execution_count": 47,
   "id": "ac2b1307",
   "metadata": {},
   "outputs": [
    {
     "data": {
      "text/plain": [
       "numpy.ndarray"
      ]
     },
     "execution_count": 47,
     "metadata": {},
     "output_type": "execute_result"
    }
   ],
   "source": [
    "type(uniform_data)"
   ]
  },
  {
   "cell_type": "code",
   "execution_count": 48,
   "id": "c6305177",
   "metadata": {},
   "outputs": [
    {
     "data": {
      "text/plain": [
       "(100,)"
      ]
     },
     "execution_count": 48,
     "metadata": {},
     "output_type": "execute_result"
    }
   ],
   "source": [
    "np.shape(uniform_data)"
   ]
  },
  {
   "cell_type": "code",
   "execution_count": 108,
   "id": "cf732a5f",
   "metadata": {},
   "outputs": [
    {
     "data": {
      "text/plain": [
       "[<matplotlib.lines.Line2D at 0x7fc486c93c70>]"
      ]
     },
     "execution_count": 108,
     "metadata": {},
     "output_type": "execute_result"
    },
    {
     "data": {
      "image/png": "[encoded data removed]",
      "text/plain": [
       "<Figure size 432x288 with 1 Axes>"
      ]
     },
     "metadata": {
      "needs_background": "light"
     },
     "output_type": "display_data"
    }
   ],
   "source": [
    "plt.hist(uniform_data, bins=10, density=True, edgecolor='blue')\n",
    "x=np.linspace(0,1,100)\n",
    "y = uniform.pdf(x, 0, 1)\n",
    "plt.plot(x,y)"
   ]
  },
  {
   "cell_type": "markdown",
   "id": "5687d192",
   "metadata": {},
   "source": [
    "## Normal distribution"
   ]
  },
  {
   "cell_type": "code",
   "execution_count": 110,
   "id": "92a3327c",
   "metadata": {},
   "outputs": [],
   "source": [
    "from scipy.stats import norm\n",
    "\n",
    "normval = norm.rvs(size=100)\n",
    "\n",
    "x = np.linspace(-5,5,100)\n",
    "   \n",
    "y = norm.pdf(x)\n",
    "cd = norm.cdf(x)\n",
    "\n"
   ]
  },
  {
   "cell_type": "code",
   "execution_count": 111,
   "id": "c46bf63e",
   "metadata": {},
   "outputs": [
    {
     "data": {
      "text/plain": [
       "[<matplotlib.lines.Line2D at 0x7fc4869b5c00>]"
      ]
     },
     "execution_count": 111,
     "metadata": {},
     "output_type": "execute_result"
    },
    {
     "data": {
      "image/png": "[encoded data removed]",
      "text/plain": [
       "<Figure size 432x288 with 1 Axes>"
      ]
     },
     "metadata": {
      "needs_background": "light"
     },
     "output_type": "display_data"
    }
   ],
   "source": [
    "plt.hist(normval, density=True,edgecolor='blue')\n",
    "plt.plot(x,y)\n",
    "plt.plot(x,cd)"
   ]
  },
  {
   "cell_type": "code",
   "execution_count": 112,
   "id": "e64bb841",
   "metadata": {},
   "outputs": [],
   "source": [
    "## Binomial Distribution"
   ]
  },
  {
   "cell_type": "code",
   "execution_count": 130,
   "id": "8b811cf0",
   "metadata": {},
   "outputs": [
    {
     "name": "stdout",
     "output_type": "stream",
     "text": [
      "mean value is  9.933\n",
      "variance value is  5.088511000000001\n",
      "first moment is  0.0\n",
      "second moment is  5.088511000000001\n",
      "third moment is  -0.5799085259999973\n",
      "fourth moment is  71.496510408637\n"
     ]
    },
    {
     "data": {
      "image/png": "[encoded data removed]",
      "text/plain": [
       "<Figure size 432x288 with 1 Axes>"
      ]
     },
     "metadata": {
      "needs_background": "light"
     },
     "output_type": "display_data"
    }
   ],
   "source": [
    "from scipy.stats import binom, moment\n",
    "import matplotlib.pyplot as plt\n",
    "import numpy as np\n",
    "\n",
    "#fixing the seed for reproducibility\n",
    "#of the result\n",
    "np.random.seed(10)\n",
    "\n",
    "#creating a vector containing 10000\n",
    "#random values from binomial distribution\n",
    "y = binom.rvs(20, 0.5, 0, 1000)\n",
    "\n",
    "#creating bin\n",
    "bin = np.arange(0,25,1)  \n",
    "\n",
    "\n",
    "\n",
    "plt.hist(y, bins=bin, edgecolor='blue')\n",
    "\n",
    "print(\"mean value is  {}\".format(y.mean()))\n",
    "print(\"variance value is  {}\".format(y.var()))\n",
    "\n",
    "print(\"first moment is  {}\".format(moment(y, moment=1)))\n",
    "print(\"second moment is  {}\".format(moment(y, moment=2)))\n",
    "print(\"third moment is  {}\".format(moment(y, moment=3)))\n",
    "print(\"fourth moment is  {}\".format(moment(y, moment=4)))\n"
   ]
  },
  {
   "cell_type": "code",
   "execution_count": null,
   "id": "b9d9cbbe",
   "metadata": {},
   "outputs": [],
   "source": []
  }
 ],
 "metadata": {
  "kernelspec": {
   "display_name": "Python 3 (ipykernel)",
   "language": "python",
   "name": "python3"
  },
  "language_info": {
   "codemirror_mode": {
    "name": "ipython",
    "version": 3
   },
   "file_extension": ".py",
   "mimetype": "text/x-python",
   "name": "python",
   "nbconvert_exporter": "python",
   "pygments_lexer": "ipython3",
   "version": "3.10.8"
  }
 },
 "nbformat": 4,
 "nbformat_minor": 5
}
