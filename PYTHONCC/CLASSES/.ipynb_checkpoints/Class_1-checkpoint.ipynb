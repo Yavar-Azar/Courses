{
 "cells": [
  {
   "cell_type": "markdown",
   "id": "e4bf1f51",
   "metadata": {},
   "source": [
    "# CLASS\n",
    "\n",
    "## Object-Oriented Programming in Python\n",
    "\n",
    "Structuring programs so that properties and behaviors are bundled into individual objects\n",
    "\n",
    "\n",
    "\n"
   ]
  },
  {
   "cell_type": "code",
   "execution_count": 57,
   "id": "183b8bbc",
   "metadata": {},
   "outputs": [],
   "source": [
    "class Fruit:\n",
    "    \n",
    "    unit = \"kg\"\n",
    "    count = 0\n",
    "    \n",
    "    def increase(self):\n",
    "        Fruit.count += 2\n",
    "    "
   ]
  },
  {
   "cell_type": "code",
   "execution_count": 58,
   "id": "15fdba79",
   "metadata": {},
   "outputs": [],
   "source": [
    "a = Fruit()\n",
    "b = Fruit()"
   ]
  },
  {
   "cell_type": "code",
   "execution_count": 59,
   "id": "304b2030",
   "metadata": {},
   "outputs": [
    {
     "data": {
      "text/plain": [
       "0"
      ]
     },
     "execution_count": 59,
     "metadata": {},
     "output_type": "execute_result"
    }
   ],
   "source": [
    "a.count"
   ]
  },
  {
   "cell_type": "code",
   "execution_count": 60,
   "id": "4d6c451e",
   "metadata": {},
   "outputs": [],
   "source": [
    "a.increase()"
   ]
  },
  {
   "cell_type": "code",
   "execution_count": 61,
   "id": "03656195",
   "metadata": {},
   "outputs": [
    {
     "name": "stdout",
     "output_type": "stream",
     "text": [
      "2\n"
     ]
    }
   ],
   "source": [
    "print(a.count)"
   ]
  },
  {
   "cell_type": "code",
   "execution_count": 62,
   "id": "e9a2abb5",
   "metadata": {},
   "outputs": [
    {
     "data": {
      "text/plain": [
       "2"
      ]
     },
     "execution_count": 62,
     "metadata": {},
     "output_type": "execute_result"
    }
   ],
   "source": [
    "b.count"
   ]
  },
  {
   "cell_type": "code",
   "execution_count": 63,
   "id": "0a86272c",
   "metadata": {},
   "outputs": [],
   "source": [
    "c = Fruit()"
   ]
  },
  {
   "cell_type": "code",
   "execution_count": 64,
   "id": "65a1d2b9",
   "metadata": {},
   "outputs": [
    {
     "data": {
      "text/plain": [
       "2"
      ]
     },
     "execution_count": 64,
     "metadata": {},
     "output_type": "execute_result"
    }
   ],
   "source": [
    "c.count"
   ]
  },
  {
   "cell_type": "markdown",
   "id": "999dcbcf",
   "metadata": {},
   "source": [
    "In above example **unit** and **count** are **class attribute** \n",
    "\n",
    "> Difference between **class attribute** and **instance attribute**  \n",
    "Class Attribute: Class Attributes are unique to each class. Each instance of the class will have this attribute.\n",
    "If we change class attribute inn a function it will change allover, it can be used to pass a value\n",
    "\n",
    "\n",
    "- A class attribute is shared by all instances of the class. To define a class attribute, you place it outside of the __init__() method.\n",
    "- Use class_name.class_attribute or object_name.class_attribute to access the value of the class_attribute.\n",
    "- Use class attributes for storing class contants, track data across all instances, and setting default values for all instances of the class.\n",
    "\n",
    "<p  style=\"color:white; background-color:blue; padding:10px; width:600px\">      Instance attribute vs  class attribute </p>"
   ]
  },
  {
   "cell_type": "markdown",
   "id": "fb04cfb4",
   "metadata": {},
   "source": [
    "### INSTANCE ATTRIBUTE"
   ]
  },
  {
   "cell_type": "code",
   "execution_count": 68,
   "id": "d4cc4111",
   "metadata": {},
   "outputs": [
    {
     "name": "stdout",
     "output_type": "stream",
     "text": [
      "hassan\n",
      "5000\n",
      "Gfg\n",
      "4000\n"
     ]
    }
   ],
   "source": [
    "# create a class\n",
    "class Employee:\n",
    "\t\n",
    "\t# constructor\n",
    "\tdef __init__(self):\n",
    "\t\t\n",
    "\t\t# instance attribute\n",
    "\t\tself.name = 'Gfg'\n",
    "\t\tself.salary = 4000\n",
    "\t\n",
    "\t# define a method\n",
    "\tdef show(self):\n",
    "\t\tprint(self.name)\n",
    "\t\tprint(self.salary)\n",
    "\n",
    "# create an object of\n",
    "# Employee class\n",
    "x = Employee()\n",
    "x.name = 'hassan'\n",
    "x.salary = 5000\n",
    "\n",
    "y = Employee()\n",
    "\n",
    "# method calling\n",
    "x.show()\n",
    "y.show()"
   ]
  },
  {
   "cell_type": "markdown",
   "id": "3a925634",
   "metadata": {},
   "source": [
    "here ```__init__``` is a python Magic Names"
   ]
  },
  {
   "cell_type": "code",
   "execution_count": null,
   "id": "a8699bee",
   "metadata": {},
   "outputs": [],
   "source": []
  }
 ],
 "metadata": {
  "kernelspec": {
   "display_name": "Python 3 (ipykernel)",
   "language": "python",
   "name": "python3"
  },
  "language_info": {
   "codemirror_mode": {
    "name": "ipython",
    "version": 3
   },
   "file_extension": ".py",
   "mimetype": "text/x-python",
   "name": "python",
   "nbconvert_exporter": "python",
   "pygments_lexer": "ipython3",
   "version": "3.10.2"
  }
 },
 "nbformat": 4,
 "nbformat_minor": 5
}
