{
 "cells": [
  {
   "cell_type": "markdown",
   "id": "9ed5ca44",
   "metadata": {},
   "source": [
    "# Scikit-learn perceptron\n",
    "\n",
    "Here we will try perceptron inside scikit-learn library\n",
    "\n"
   ]
  },
  {
   "cell_type": "code",
   "execution_count": 58,
   "id": "89b00a62",
   "metadata": {},
   "outputs": [
    {
     "data": {
      "text/html": [
       "<style>#sk-container-id-5 {color: black;background-color: white;}#sk-container-id-5 pre{padding: 0;}#sk-container-id-5 div.sk-toggleable {background-color: white;}#sk-container-id-5 label.sk-toggleable__label {cursor: pointer;display: block;width: 100%;margin-bottom: 0;padding: 0.3em;box-sizing: border-box;text-align: center;}#sk-container-id-5 label.sk-toggleable__label-arrow:before {content: \"▸\";float: left;margin-right: 0.25em;color: #696969;}#sk-container-id-5 label.sk-toggleable__label-arrow:hover:before {color: black;}#sk-container-id-5 div.sk-estimator:hover label.sk-toggleable__label-arrow:before {color: black;}#sk-container-id-5 div.sk-toggleable__content {max-height: 0;max-width: 0;overflow: hidden;text-align: left;background-color: #f0f8ff;}#sk-container-id-5 div.sk-toggleable__content pre {margin: 0.2em;color: black;border-radius: 0.25em;background-color: #f0f8ff;}#sk-container-id-5 input.sk-toggleable__control:checked~div.sk-toggleable__content {max-height: 200px;max-width: 100%;overflow: auto;}#sk-container-id-5 input.sk-toggleable__control:checked~label.sk-toggleable__label-arrow:before {content: \"▾\";}#sk-container-id-5 div.sk-estimator input.sk-toggleable__control:checked~label.sk-toggleable__label {background-color: #d4ebff;}#sk-container-id-5 div.sk-label input.sk-toggleable__control:checked~label.sk-toggleable__label {background-color: #d4ebff;}#sk-container-id-5 input.sk-hidden--visually {border: 0;clip: rect(1px 1px 1px 1px);clip: rect(1px, 1px, 1px, 1px);height: 1px;margin: -1px;overflow: hidden;padding: 0;position: absolute;width: 1px;}#sk-container-id-5 div.sk-estimator {font-family: monospace;background-color: #f0f8ff;border: 1px dotted black;border-radius: 0.25em;box-sizing: border-box;margin-bottom: 0.5em;}#sk-container-id-5 div.sk-estimator:hover {background-color: #d4ebff;}#sk-container-id-5 div.sk-parallel-item::after {content: \"\";width: 100%;border-bottom: 1px solid gray;flex-grow: 1;}#sk-container-id-5 div.sk-label:hover label.sk-toggleable__label {background-color: #d4ebff;}#sk-container-id-5 div.sk-serial::before {content: \"\";position: absolute;border-left: 1px solid gray;box-sizing: border-box;top: 0;bottom: 0;left: 50%;z-index: 0;}#sk-container-id-5 div.sk-serial {display: flex;flex-direction: column;align-items: center;background-color: white;padding-right: 0.2em;padding-left: 0.2em;position: relative;}#sk-container-id-5 div.sk-item {position: relative;z-index: 1;}#sk-container-id-5 div.sk-parallel {display: flex;align-items: stretch;justify-content: center;background-color: white;position: relative;}#sk-container-id-5 div.sk-item::before, #sk-container-id-5 div.sk-parallel-item::before {content: \"\";position: absolute;border-left: 1px solid gray;box-sizing: border-box;top: 0;bottom: 0;left: 50%;z-index: -1;}#sk-container-id-5 div.sk-parallel-item {display: flex;flex-direction: column;z-index: 1;position: relative;background-color: white;}#sk-container-id-5 div.sk-parallel-item:first-child::after {align-self: flex-end;width: 50%;}#sk-container-id-5 div.sk-parallel-item:last-child::after {align-self: flex-start;width: 50%;}#sk-container-id-5 div.sk-parallel-item:only-child::after {width: 0;}#sk-container-id-5 div.sk-dashed-wrapped {border: 1px dashed gray;margin: 0 0.4em 0.5em 0.4em;box-sizing: border-box;padding-bottom: 0.4em;background-color: white;}#sk-container-id-5 div.sk-label label {font-family: monospace;font-weight: bold;display: inline-block;line-height: 1.2em;}#sk-container-id-5 div.sk-label-container {text-align: center;}#sk-container-id-5 div.sk-container {/* jupyter's `normalize.less` sets `[hidden] { display: none; }` but bootstrap.min.css set `[hidden] { display: none !important; }` so we also need the `!important` here to be able to override the default hidden behavior on the sphinx rendered scikit-learn.org. See: https://github.com/scikit-learn/scikit-learn/issues/21755 */display: inline-block !important;position: relative;}#sk-container-id-5 div.sk-text-repr-fallback {display: none;}</style><div id=\"sk-container-id-5\" class=\"sk-top-container\"><div class=\"sk-text-repr-fallback\"><pre>Perceptron(l1_ratio=0.25, random_state=15, tol=0.1)</pre><b>In a Jupyter environment, please rerun this cell to show the HTML representation or trust the notebook. <br />On GitHub, the HTML representation is unable to render, please try loading this page with nbviewer.org.</b></div><div class=\"sk-container\" hidden><div class=\"sk-item\"><div class=\"sk-estimator sk-toggleable\"><input class=\"sk-toggleable__control sk-hidden--visually\" id=\"sk-estimator-id-5\" type=\"checkbox\" checked><label for=\"sk-estimator-id-5\" class=\"sk-toggleable__label sk-toggleable__label-arrow\">Perceptron</label><div class=\"sk-toggleable__content\"><pre>Perceptron(l1_ratio=0.25, random_state=15, tol=0.1)</pre></div></div></div></div></div>"
      ],
      "text/plain": [
       "Perceptron(l1_ratio=0.25, random_state=15, tol=0.1)"
      ]
     },
     "execution_count": 58,
     "metadata": {},
     "output_type": "execute_result"
    }
   ],
   "source": [
    "import matplotlib.pyplot as plt\n",
    "\n",
    "import numpy as np\n",
    "from matplotlib import colors\n",
    "ll = ['#112031', '#152D35','#345B63', '#D4ECDD']\n",
    "ll.reverse()\n",
    "cmap = colors.ListedColormap(ll)\n",
    "\n",
    "from sklearn.datasets import load_digits\n",
    "from sklearn.linear_model import Perceptron\n",
    "X, y = load_digits(return_X_y=True)\n",
    "#what is random stat?\n",
    "clf = Perceptron(tol=1e-1, random_state=15, l1_ratio=0.25)\n",
    "clf.fit(X, y)\n"
   ]
  },
  {
   "cell_type": "markdown",
   "id": "572c077f",
   "metadata": {},
   "source": [
    "let's take a look to the first 18 data inside X dataset"
   ]
  },
  {
   "cell_type": "code",
   "execution_count": 59,
   "id": "ded3f2d6",
   "metadata": {},
   "outputs": [],
   "source": [
    "test = np.zeros((18,8,8))\n",
    "\n",
    "for i in range(18):\n",
    "    test[i,:,:]=np.reshape(X[i],(8, 8))\n"
   ]
  },
  {
   "cell_type": "code",
   "execution_count": 60,
   "id": "0ac5a83b",
   "metadata": {},
   "outputs": [
    {
     "data": {
      "image/png": "[encoded data removed]",
      "text/plain": [
       "<Figure size 1080x432 with 18 Axes>"
      ]
     },
     "metadata": {
      "needs_background": "light"
     },
     "output_type": "display_data"
    }
   ],
   "source": [
    "fig, axs = plt.subplots(3,6, figsize=(15, 6))\n",
    "\n",
    "axs = axs.ravel()\n",
    "\n",
    "\n",
    "for i in range(18):\n",
    "    axs[i].imshow(test[i], cmap=cmap)"
   ]
  },
  {
   "cell_type": "markdown",
   "id": "49a50c7b",
   "metadata": {},
   "source": [
    "lets see what predicted by our perceptron"
   ]
  },
  {
   "cell_type": "code",
   "execution_count": 57,
   "id": "dea8c2c4",
   "metadata": {},
   "outputs": [
    {
     "name": "stdout",
     "output_type": "stream",
     "text": [
      "   prediction |  real value  |  difference\n",
      "__________________________________________\n",
      "\n",
      "         0    |          0   |           0\n",
      "         1    |          1   |           0\n",
      "         2    |          2   |           0\n",
      "         3    |          3   |           0\n",
      "         4    |          4   |           0\n",
      "         9    |          5   |           4\n",
      "         6    |          6   |           0\n",
      "         7    |          7   |           0\n",
      "         8    |          8   |           0\n",
      "         9    |          9   |           0\n",
      "         0    |          0   |           0\n",
      "         1    |          1   |           0\n",
      "         2    |          2   |           0\n",
      "         3    |          3   |           0\n",
      "         4    |          4   |           0\n",
      "         5    |          5   |           0\n",
      "         6    |          6   |           0\n",
      "         7    |          7   |           0\n"
     ]
    }
   ],
   "source": [
    "results= clf.predict(X)\n",
    "\n",
    "print(\"   prediction |  real value  |  difference\")\n",
    "print(\"__________________________________________\\n\")\n",
    "\n",
    "for i in range(18):\n",
    "    print(\"{:10d}    | {:10d}   |  {:10d}\".format(results[i], y[i], results[i]-y[i]))"
   ]
  },
  {
   "cell_type": "markdown",
   "id": "207e8a79",
   "metadata": {},
   "source": [
    "lets see how many results are accurate"
   ]
  },
  {
   "cell_type": "code",
   "execution_count": 47,
   "id": "ac4f9661",
   "metadata": {},
   "outputs": [
    {
     "name": "stdout",
     "output_type": "stream",
     "text": [
      "0.9710628825820813\n"
     ]
    }
   ],
   "source": [
    "diff = results-y\n",
    "\n",
    "nonzeros = diff[diff!=0]\n",
    "\n",
    "nzlen=len(nonzeros)\n",
    "alldata=len(y)\n",
    "\n",
    "\n",
    "accuracy = (alldata-nzlen)/alldata\n",
    "\n",
    "print(accuracy)"
   ]
  },
  {
   "cell_type": "markdown",
   "id": "e7bb097a",
   "metadata": {},
   "source": [
    "Check output of perceprton  score method"
   ]
  },
  {
   "cell_type": "code",
   "execution_count": 49,
   "id": "4a8c81a6",
   "metadata": {},
   "outputs": [
    {
     "data": {
      "text/plain": [
       "0.9710628825820813"
      ]
     },
     "execution_count": 49,
     "metadata": {},
     "output_type": "execute_result"
    }
   ],
   "source": [
    "clf.score(X,y)"
   ]
  },
  {
   "cell_type": "markdown",
   "id": "2fe81a4e",
   "metadata": {},
   "source": [
    "Our estiamtion is very good !"
   ]
  },
  {
   "cell_type": "code",
   "execution_count": null,
   "id": "4b14cf27",
   "metadata": {},
   "outputs": [],
   "source": []
  }
 ],
 "metadata": {
  "kernelspec": {
   "display_name": "Python 3 (ipykernel)",
   "language": "python",
   "name": "python3"
  },
  "language_info": {
   "codemirror_mode": {
    "name": "ipython",
    "version": 3
   },
   "file_extension": ".py",
   "mimetype": "text/x-python",
   "name": "python",
   "nbconvert_exporter": "python",
   "pygments_lexer": "ipython3",
   "version": "3.10.5"
  }
 },
 "nbformat": 4,
 "nbformat_minor": 5
}
