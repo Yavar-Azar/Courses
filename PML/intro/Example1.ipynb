{
 "cells": [
  {
   "cell_type": "markdown",
   "id": "9894e1bf",
   "metadata": {},
   "source": [
    "# Data examples\n",
    "\n",
    "Here we will see some data examples"
   ]
  },
  {
   "cell_type": "code",
   "execution_count": 21,
   "id": "ed958699",
   "metadata": {},
   "outputs": [],
   "source": [
    "import numpy as np\n",
    "import matplotlib.pyplot as plt\n",
    "import pandas as pd\n",
    "\n",
    "\n",
    "\n",
    "mat1 = np.random.rand(1000,4)\n",
    "\n",
    "mat2 = np.zeros((1000,5))\n",
    "mat2[:,0:4]=mat1\n",
    "mat2[:,4]=np.sin(mat1[:,0])*np.exp(-mat1[:,2])"
   ]
  },
  {
   "cell_type": "code",
   "execution_count": 22,
   "id": "a6a4e45e",
   "metadata": {},
   "outputs": [],
   "source": [
    "testdf=pd.DataFrame(mat1, columns = ['Column_A','Column_B','Column_C', 'col4'])\n"
   ]
  },
  {
   "cell_type": "code",
   "execution_count": 23,
   "id": "e1f24672",
   "metadata": {},
   "outputs": [],
   "source": [
    "new=testdf.corr()"
   ]
  },
  {
   "cell_type": "code",
   "execution_count": 24,
   "id": "2cf801eb",
   "metadata": {},
   "outputs": [
    {
     "data": {
      "text/plain": [
       "(4, 4)"
      ]
     },
     "execution_count": 24,
     "metadata": {},
     "output_type": "execute_result"
    }
   ],
   "source": [
    "np.shape(new)"
   ]
  },
  {
   "cell_type": "code",
   "execution_count": 25,
   "id": "938bf323",
   "metadata": {},
   "outputs": [
    {
     "data": {
      "text/plain": [
       "(<matplotlib.image.AxesImage at 0x7f47cc3cca60>,\n",
       " <matplotlib.colorbar.Colorbar at 0x7f47cc3cce80>)"
      ]
     },
     "execution_count": 25,
     "metadata": {},
     "output_type": "execute_result"
    },
    {
     "data": {
      "image/png": "[encoded data removed]",
      "text/plain": [
       "<Figure size 432x288 with 2 Axes>"
      ]
     },
     "metadata": {
      "needs_background": "light"
     },
     "output_type": "display_data"
    }
   ],
   "source": [
    "plt.imshow(new), plt.colorbar()"
   ]
  },
  {
   "cell_type": "code",
   "execution_count": 26,
   "id": "287bbded",
   "metadata": {},
   "outputs": [],
   "source": [
    "testdf2=pd.DataFrame(mat2, columns = ['Column_A','Column_B','Column_C', 'col4', 'colE'])\n",
    "new2=testdf2.corr()"
   ]
  },
  {
   "cell_type": "code",
   "execution_count": 27,
   "id": "fc2d4275",
   "metadata": {},
   "outputs": [
    {
     "data": {
      "text/plain": [
       "(5, 5)"
      ]
     },
     "execution_count": 27,
     "metadata": {},
     "output_type": "execute_result"
    }
   ],
   "source": [
    "np.shape(new2)"
   ]
  },
  {
   "cell_type": "code",
   "execution_count": 28,
   "id": "7224be35",
   "metadata": {},
   "outputs": [
    {
     "data": {
      "text/plain": [
       "(<matplotlib.image.AxesImage at 0x7f47cc26ba00>,\n",
       " <matplotlib.colorbar.Colorbar at 0x7f47cc26be20>)"
      ]
     },
     "execution_count": 28,
     "metadata": {},
     "output_type": "execute_result"
    },
    {
     "data": {
      "image/png": "[encoded data removed]",
      "text/plain": [
       "<Figure size 432x288 with 2 Axes>"
      ]
     },
     "metadata": {
      "needs_background": "light"
     },
     "output_type": "display_data"
    }
   ],
   "source": [
    "plt.imshow(new2), plt.colorbar()"
   ]
  },
  {
   "cell_type": "code",
   "execution_count": 30,
   "id": "82d59610",
   "metadata": {},
   "outputs": [
    {
     "data": {
      "text/html": [
       "<div>\n",
       "<style scoped>\n",
       "    .dataframe tbody tr th:only-of-type {\n",
       "        vertical-align: middle;\n",
       "    }\n",
       "\n",
       "    .dataframe tbody tr th {\n",
       "        vertical-align: top;\n",
       "    }\n",
       "\n",
       "    .dataframe thead th {\n",
       "        text-align: right;\n",
       "    }\n",
       "</style>\n",
       "<table border=\"1\" class=\"dataframe\">\n",
       "  <thead>\n",
       "    <tr style=\"text-align: right;\">\n",
       "      <th></th>\n",
       "      <th>Column_A</th>\n",
       "      <th>Column_B</th>\n",
       "      <th>Column_C</th>\n",
       "      <th>col4</th>\n",
       "      <th>colE</th>\n",
       "    </tr>\n",
       "  </thead>\n",
       "  <tbody>\n",
       "    <tr>\n",
       "      <th>Column_A</th>\n",
       "      <td>1.000000</td>\n",
       "      <td>0.025338</td>\n",
       "      <td>-0.038399</td>\n",
       "      <td>0.035836</td>\n",
       "      <td>0.853857</td>\n",
       "    </tr>\n",
       "    <tr>\n",
       "      <th>Column_B</th>\n",
       "      <td>0.025338</td>\n",
       "      <td>1.000000</td>\n",
       "      <td>0.022035</td>\n",
       "      <td>0.042588</td>\n",
       "      <td>0.009766</td>\n",
       "    </tr>\n",
       "    <tr>\n",
       "      <th>Column_C</th>\n",
       "      <td>-0.038399</td>\n",
       "      <td>0.022035</td>\n",
       "      <td>1.000000</td>\n",
       "      <td>-0.020796</td>\n",
       "      <td>-0.485293</td>\n",
       "    </tr>\n",
       "    <tr>\n",
       "      <th>col4</th>\n",
       "      <td>0.035836</td>\n",
       "      <td>0.042588</td>\n",
       "      <td>-0.020796</td>\n",
       "      <td>1.000000</td>\n",
       "      <td>0.037066</td>\n",
       "    </tr>\n",
       "    <tr>\n",
       "      <th>colE</th>\n",
       "      <td>0.853857</td>\n",
       "      <td>0.009766</td>\n",
       "      <td>-0.485293</td>\n",
       "      <td>0.037066</td>\n",
       "      <td>1.000000</td>\n",
       "    </tr>\n",
       "  </tbody>\n",
       "</table>\n",
       "</div>"
      ],
      "text/plain": [
       "          Column_A  Column_B  Column_C      col4      colE\n",
       "Column_A  1.000000  0.025338 -0.038399  0.035836  0.853857\n",
       "Column_B  0.025338  1.000000  0.022035  0.042588  0.009766\n",
       "Column_C -0.038399  0.022035  1.000000 -0.020796 -0.485293\n",
       "col4      0.035836  0.042588 -0.020796  1.000000  0.037066\n",
       "colE      0.853857  0.009766 -0.485293  0.037066  1.000000"
      ]
     },
     "execution_count": 30,
     "metadata": {},
     "output_type": "execute_result"
    }
   ],
   "source": [
    "new2"
   ]
  },
  {
   "cell_type": "code",
   "execution_count": null,
   "id": "ccbcaa13",
   "metadata": {},
   "outputs": [],
   "source": []
  }
 ],
 "metadata": {
  "kernelspec": {
   "display_name": "Python 3 (ipykernel)",
   "language": "python",
   "name": "python3"
  },
  "language_info": {
   "codemirror_mode": {
    "name": "ipython",
    "version": 3
   },
   "file_extension": ".py",
   "mimetype": "text/x-python",
   "name": "python",
   "nbconvert_exporter": "python",
   "pygments_lexer": "ipython3",
   "version": "3.10.5"
  }
 },
 "nbformat": 4,
 "nbformat_minor": 5
}
